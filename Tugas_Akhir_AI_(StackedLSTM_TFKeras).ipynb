{
  "nbformat": 4,
  "nbformat_minor": 0,
  "metadata": {
    "kernelspec": {
      "display_name": "Python 3",
      "language": "python",
      "name": "python3"
    },
    "language_info": {
      "codemirror_mode": {
        "name": "ipython",
        "version": 3
      },
      "file_extension": ".py",
      "mimetype": "text/x-python",
      "name": "python",
      "nbconvert_exporter": "python",
      "pygments_lexer": "ipython3",
      "version": "3.6.9"
    },
    "colab": {
      "name": "Tugas Akhir AI (StackedLSTM-TFKeras).ipynb",
      "provenance": [],
      "collapsed_sections": [],
      "toc_visible": true,
      "include_colab_link": true
    }
  },
  "cells": [
    {
      "cell_type": "markdown",
      "metadata": {
        "id": "view-in-github",
        "colab_type": "text"
      },
      "source": [
        "<a href=\"https://colab.research.google.com/github/kvnwj/StackedLSTM-TFKeras/blob/main/Tugas_Akhir_AI_(StackedLSTM_TFKeras).ipynb\" target=\"_parent\"><img src=\"https://colab.research.google.com/assets/colab-badge.svg\" alt=\"Open In Colab\"/></a>"
      ]
    },
    {
      "cell_type": "markdown",
      "metadata": {
        "id": "3IrQGodxLwAA"
      },
      "source": [
        "# BBCA Stock Price Prediction And Forecasting Using Stacked LSTM\n",
        "Tugas Akhir Mata Kuliah Artificial Intelligence\n"
      ]
    },
    {
      "cell_type": "markdown",
      "metadata": {
        "id": "7bUXKObtpVak"
      },
      "source": [
        "## Import Data"
      ]
    },
    {
      "cell_type": "code",
      "metadata": {
        "id": "m2EhiUBwraXl",
        "colab": {
          "base_uri": "https://localhost:8080/"
        },
        "outputId": "3cbb57d2-26c2-4ab0-f545-4c8c367e729e"
      },
      "source": [
        "# Connect ke Google Drive\n",
        "from google.colab import drive\n",
        "drive.mount('/gdrive')"
      ],
      "execution_count": 1,
      "outputs": [
        {
          "output_type": "stream",
          "text": [
            "Mounted at /gdrive\n"
          ],
          "name": "stdout"
        }
      ]
    },
    {
      "cell_type": "code",
      "metadata": {
        "colab": {
          "base_uri": "https://localhost:8080/"
        },
        "id": "rxq7UryIbQFG",
        "outputId": "c1dcf83d-47fb-4926-a05b-2f1a9d977dd7"
      },
      "source": [
        "# cd ke direktori data saham\n",
        "%cd /gdrive/'My Drive'/Data_AI\n",
        "%ls"
      ],
      "execution_count": 2,
      "outputs": [
        {
          "output_type": "stream",
          "text": [
            "/gdrive/My Drive/Data_AI\n",
            "BBCA.JK_2020.csv  BBCA.JK.csv\n"
          ],
          "name": "stdout"
        }
      ]
    },
    {
      "cell_type": "code",
      "metadata": {
        "id": "NIdf8RgoLwAB",
        "colab": {
          "base_uri": "https://localhost:8080/",
          "height": 204
        },
        "outputId": "fccf1c74-fe02-40d6-d3e4-20f82a2fae20"
      },
      "source": [
        "# Membaca file CSV Saham\n",
        "import pandas as pd\n",
        "df = pd.read_csv('BBCA.JK.csv')\n",
        "df.head()"
      ],
      "execution_count": 3,
      "outputs": [
        {
          "output_type": "execute_result",
          "data": {
            "text/html": [
              "<div>\n",
              "<style scoped>\n",
              "    .dataframe tbody tr th:only-of-type {\n",
              "        vertical-align: middle;\n",
              "    }\n",
              "\n",
              "    .dataframe tbody tr th {\n",
              "        vertical-align: top;\n",
              "    }\n",
              "\n",
              "    .dataframe thead th {\n",
              "        text-align: right;\n",
              "    }\n",
              "</style>\n",
              "<table border=\"1\" class=\"dataframe\">\n",
              "  <thead>\n",
              "    <tr style=\"text-align: right;\">\n",
              "      <th></th>\n",
              "      <th>Date</th>\n",
              "      <th>Open</th>\n",
              "      <th>High</th>\n",
              "      <th>Low</th>\n",
              "      <th>Close</th>\n",
              "      <th>Adj Close</th>\n",
              "      <th>Volume</th>\n",
              "    </tr>\n",
              "  </thead>\n",
              "  <tbody>\n",
              "    <tr>\n",
              "      <th>0</th>\n",
              "      <td>2019-01-01</td>\n",
              "      <td>26000.0</td>\n",
              "      <td>26000.0</td>\n",
              "      <td>26000.0</td>\n",
              "      <td>26000.0</td>\n",
              "      <td>25246.753906</td>\n",
              "      <td>0</td>\n",
              "    </tr>\n",
              "    <tr>\n",
              "      <th>1</th>\n",
              "      <td>2019-01-02</td>\n",
              "      <td>26000.0</td>\n",
              "      <td>26225.0</td>\n",
              "      <td>26000.0</td>\n",
              "      <td>26200.0</td>\n",
              "      <td>25440.958984</td>\n",
              "      <td>7191200</td>\n",
              "    </tr>\n",
              "    <tr>\n",
              "      <th>2</th>\n",
              "      <td>2019-01-03</td>\n",
              "      <td>26000.0</td>\n",
              "      <td>26100.0</td>\n",
              "      <td>25575.0</td>\n",
              "      <td>25900.0</td>\n",
              "      <td>25149.652344</td>\n",
              "      <td>14471600</td>\n",
              "    </tr>\n",
              "    <tr>\n",
              "      <th>3</th>\n",
              "      <td>2019-01-04</td>\n",
              "      <td>25875.0</td>\n",
              "      <td>26025.0</td>\n",
              "      <td>25625.0</td>\n",
              "      <td>26025.0</td>\n",
              "      <td>25271.031250</td>\n",
              "      <td>10293000</td>\n",
              "    </tr>\n",
              "    <tr>\n",
              "      <th>4</th>\n",
              "      <td>2019-01-07</td>\n",
              "      <td>26325.0</td>\n",
              "      <td>26625.0</td>\n",
              "      <td>26225.0</td>\n",
              "      <td>26225.0</td>\n",
              "      <td>25465.236328</td>\n",
              "      <td>14687600</td>\n",
              "    </tr>\n",
              "  </tbody>\n",
              "</table>\n",
              "</div>"
            ],
            "text/plain": [
              "         Date     Open     High      Low    Close     Adj Close    Volume\n",
              "0  2019-01-01  26000.0  26000.0  26000.0  26000.0  25246.753906         0\n",
              "1  2019-01-02  26000.0  26225.0  26000.0  26200.0  25440.958984   7191200\n",
              "2  2019-01-03  26000.0  26100.0  25575.0  25900.0  25149.652344  14471600\n",
              "3  2019-01-04  25875.0  26025.0  25625.0  26025.0  25271.031250  10293000\n",
              "4  2019-01-07  26325.0  26625.0  26225.0  26225.0  25465.236328  14687600"
            ]
          },
          "metadata": {
            "tags": []
          },
          "execution_count": 3
        }
      ]
    },
    {
      "cell_type": "code",
      "metadata": {
        "colab": {
          "base_uri": "https://localhost:8080/",
          "height": 204
        },
        "id": "nppD2j9kiTzd",
        "outputId": "e77e9e55-2109-4607-86c9-57564642111e"
      },
      "source": [
        "df.tail()"
      ],
      "execution_count": 4,
      "outputs": [
        {
          "output_type": "execute_result",
          "data": {
            "text/html": [
              "<div>\n",
              "<style scoped>\n",
              "    .dataframe tbody tr th:only-of-type {\n",
              "        vertical-align: middle;\n",
              "    }\n",
              "\n",
              "    .dataframe tbody tr th {\n",
              "        vertical-align: top;\n",
              "    }\n",
              "\n",
              "    .dataframe thead th {\n",
              "        text-align: right;\n",
              "    }\n",
              "</style>\n",
              "<table border=\"1\" class=\"dataframe\">\n",
              "  <thead>\n",
              "    <tr style=\"text-align: right;\">\n",
              "      <th></th>\n",
              "      <th>Date</th>\n",
              "      <th>Open</th>\n",
              "      <th>High</th>\n",
              "      <th>Low</th>\n",
              "      <th>Close</th>\n",
              "      <th>Adj Close</th>\n",
              "      <th>Volume</th>\n",
              "    </tr>\n",
              "  </thead>\n",
              "  <tbody>\n",
              "    <tr>\n",
              "      <th>253</th>\n",
              "      <td>2019-12-20</td>\n",
              "      <td>33400.0</td>\n",
              "      <td>33700.0</td>\n",
              "      <td>33050.0</td>\n",
              "      <td>33300.0</td>\n",
              "      <td>32734.117188</td>\n",
              "      <td>19890600</td>\n",
              "    </tr>\n",
              "    <tr>\n",
              "      <th>254</th>\n",
              "      <td>2019-12-23</td>\n",
              "      <td>33400.0</td>\n",
              "      <td>33650.0</td>\n",
              "      <td>33250.0</td>\n",
              "      <td>33300.0</td>\n",
              "      <td>32734.117188</td>\n",
              "      <td>9311700</td>\n",
              "    </tr>\n",
              "    <tr>\n",
              "      <th>255</th>\n",
              "      <td>2019-12-26</td>\n",
              "      <td>33300.0</td>\n",
              "      <td>33625.0</td>\n",
              "      <td>33300.0</td>\n",
              "      <td>33400.0</td>\n",
              "      <td>32832.417969</td>\n",
              "      <td>7637700</td>\n",
              "    </tr>\n",
              "    <tr>\n",
              "      <th>256</th>\n",
              "      <td>2019-12-27</td>\n",
              "      <td>33350.0</td>\n",
              "      <td>33500.0</td>\n",
              "      <td>33350.0</td>\n",
              "      <td>33475.0</td>\n",
              "      <td>32906.144531</td>\n",
              "      <td>5989000</td>\n",
              "    </tr>\n",
              "    <tr>\n",
              "      <th>257</th>\n",
              "      <td>2019-12-30</td>\n",
              "      <td>33400.0</td>\n",
              "      <td>33600.0</td>\n",
              "      <td>33350.0</td>\n",
              "      <td>33425.0</td>\n",
              "      <td>32856.992188</td>\n",
              "      <td>12233600</td>\n",
              "    </tr>\n",
              "  </tbody>\n",
              "</table>\n",
              "</div>"
            ],
            "text/plain": [
              "           Date     Open     High      Low    Close     Adj Close    Volume\n",
              "253  2019-12-20  33400.0  33700.0  33050.0  33300.0  32734.117188  19890600\n",
              "254  2019-12-23  33400.0  33650.0  33250.0  33300.0  32734.117188   9311700\n",
              "255  2019-12-26  33300.0  33625.0  33300.0  33400.0  32832.417969   7637700\n",
              "256  2019-12-27  33350.0  33500.0  33350.0  33475.0  32906.144531   5989000\n",
              "257  2019-12-30  33400.0  33600.0  33350.0  33425.0  32856.992188  12233600"
            ]
          },
          "metadata": {
            "tags": []
          },
          "execution_count": 4
        }
      ]
    },
    {
      "cell_type": "code",
      "metadata": {
        "id": "2cwa6dfuLwAB"
      },
      "source": [
        "# Ambil hanya harga \"Close\" saja\n",
        "df1=df.reset_index()['Close']"
      ],
      "execution_count": 5,
      "outputs": []
    },
    {
      "cell_type": "code",
      "metadata": {
        "colab": {
          "base_uri": "https://localhost:8080/"
        },
        "id": "RTrl4j-KLwAB",
        "outputId": "f9fbb0c8-72d4-41af-c004-a6a60b2e52f3"
      },
      "source": [
        "df1"
      ],
      "execution_count": 6,
      "outputs": [
        {
          "output_type": "execute_result",
          "data": {
            "text/plain": [
              "0      26000.0\n",
              "1      26200.0\n",
              "2      25900.0\n",
              "3      26025.0\n",
              "4      26225.0\n",
              "        ...   \n",
              "253    33300.0\n",
              "254    33300.0\n",
              "255    33400.0\n",
              "256    33475.0\n",
              "257    33425.0\n",
              "Name: Close, Length: 258, dtype: float64"
            ]
          },
          "metadata": {
            "tags": []
          },
          "execution_count": 6
        }
      ]
    },
    {
      "cell_type": "code",
      "metadata": {
        "colab": {
          "base_uri": "https://localhost:8080/",
          "height": 391
        },
        "id": "2f5b4DFPLwAC",
        "outputId": "3cba0822-990d-494e-9f47-bf09b31c9384"
      },
      "source": [
        "# Menampilkan Data menggunakan matplotlib\n",
        "import matplotlib.pyplot as plt\n",
        "plt.figure(figsize=(8,6))\n",
        "plt.plot(df1)"
      ],
      "execution_count": 7,
      "outputs": [
        {
          "output_type": "execute_result",
          "data": {
            "text/plain": [
              "[<matplotlib.lines.Line2D at 0x7fe0ac750f28>]"
            ]
          },
          "metadata": {
            "tags": []
          },
          "execution_count": 7
        },
        {
          "output_type": "display_data",
          "data": {
            "image/png": "[encoded data removed]",
            "text/plain": [
              "<Figure size 576x432 with 1 Axes>"
            ]
          },
          "metadata": {
            "tags": [],
            "needs_background": "light"
          }
        }
      ]
    },
    {
      "cell_type": "markdown",
      "metadata": {
        "id": "obHH0LWYekHw"
      },
      "source": [
        "## Data Preprocessing"
      ]
    },
    {
      "cell_type": "code",
      "metadata": {
        "id": "yencRHACLwAC"
      },
      "source": [
        "# LSTM is sensitive to the scale of data, to fix this we apply MinMax Scaler from sklearn"
      ],
      "execution_count": 8,
      "outputs": []
    },
    {
      "cell_type": "code",
      "metadata": {
        "id": "RP-Fmjc1LwAC"
      },
      "source": [
        "import numpy as np"
      ],
      "execution_count": 9,
      "outputs": []
    },
    {
      "cell_type": "code",
      "metadata": {
        "id": "F4JYCSYnLwAC"
      },
      "source": [
        "from sklearn.preprocessing import MinMaxScaler\n",
        "scaler=MinMaxScaler(feature_range=(0,1))\n",
        "df1=scaler.fit_transform(np.array(df1).reshape(-1,1))"
      ],
      "execution_count": 10,
      "outputs": []
    },
    {
      "cell_type": "code",
      "metadata": {
        "colab": {
          "base_uri": "https://localhost:8080/"
        },
        "id": "WnOhm8IuLwAC",
        "outputId": "d8b4d20a-9293-498f-95fa-19619e8e4e67"
      },
      "source": [
        "# Check 10 nilai pertama df1\n",
        "print(df1[0:10])"
      ],
      "execution_count": 11,
      "outputs": [
        {
          "output_type": "stream",
          "text": [
            "[[0.01269841]\n",
            " [0.03809524]\n",
            " [0.        ]\n",
            " [0.01587302]\n",
            " [0.04126984]\n",
            " [0.03809524]\n",
            " [0.04761905]\n",
            " [0.04761905]\n",
            " [0.04444444]\n",
            " [0.01269841]]\n"
          ],
          "name": "stdout"
        }
      ]
    },
    {
      "cell_type": "markdown",
      "metadata": {
        "id": "NsOOrB-Geobu"
      },
      "source": [
        "### Split Data"
      ]
    },
    {
      "cell_type": "code",
      "metadata": {
        "id": "SGW4cZv5LwAC"
      },
      "source": [
        "# Split Data into train and test split with train 65% and test 35%\n",
        "training_size=int(len(df1)*0.65)\n",
        "test_size=len(df1)-training_size\n",
        "train_data,test_data=df1[0:training_size,:],df1[training_size:len(df1),:1]"
      ],
      "execution_count": 12,
      "outputs": []
    },
    {
      "cell_type": "code",
      "metadata": {
        "colab": {
          "base_uri": "https://localhost:8080/"
        },
        "id": "vHjWgZ8MLwAC",
        "outputId": "dddb16d7-115e-4560-8543-0304820b9ed1"
      },
      "source": [
        "training_size,test_size"
      ],
      "execution_count": 13,
      "outputs": [
        {
          "output_type": "execute_result",
          "data": {
            "text/plain": [
              "(167, 91)"
            ]
          },
          "metadata": {
            "tags": []
          },
          "execution_count": 13
        }
      ]
    },
    {
      "cell_type": "code",
      "metadata": {
        "colab": {
          "base_uri": "https://localhost:8080/"
        },
        "id": "KBxP0fzsLwAC",
        "outputId": "69e8564e-94a4-4c69-8646-905a6647b4e8"
      },
      "source": [
        "# Check 10 nilai pertama pada train_data\n",
        "print(train_data[0:10])"
      ],
      "execution_count": 14,
      "outputs": [
        {
          "output_type": "stream",
          "text": [
            "[[0.01269841]\n",
            " [0.03809524]\n",
            " [0.        ]\n",
            " [0.01587302]\n",
            " [0.04126984]\n",
            " [0.03809524]\n",
            " [0.04761905]\n",
            " [0.04761905]\n",
            " [0.04444444]\n",
            " [0.01269841]]\n"
          ],
          "name": "stdout"
        }
      ]
    },
    {
      "cell_type": "code",
      "metadata": {
        "colab": {
          "base_uri": "https://localhost:8080/"
        },
        "id": "6UGGdlJBNxKr",
        "outputId": "11841574-0cfc-4bc9-e447-05df4eef0d61"
      },
      "source": [
        "# Check 10 nilai pertama pada test_data\n",
        "print(test_data[0:10])"
      ],
      "execution_count": 15,
      "outputs": [
        {
          "output_type": "stream",
          "text": [
            "[[0.52063492]\n",
            " [0.51746032]\n",
            " [0.51428571]\n",
            " [0.52380952]\n",
            " [0.51746032]\n",
            " [0.52380952]\n",
            " [0.58412698]\n",
            " [0.52063492]\n",
            " [0.55555556]\n",
            " [0.53333333]]\n"
          ],
          "name": "stdout"
        }
      ]
    },
    {
      "cell_type": "markdown",
      "metadata": {
        "id": "ns7FoGjPXc5Q"
      },
      "source": [
        "### Convert array of values into a dataset matrix"
      ]
    },
    {
      "cell_type": "code",
      "metadata": {
        "id": "2GtoCRweLwAC"
      },
      "source": [
        "import numpy\n",
        "def create_dataset(dataset, time_step=1):\n",
        "\tdataX, dataY = [], []\n",
        "\tfor i in range(len(dataset)-time_step-1):\n",
        "\t\ta = dataset[i:(i+time_step), 0]\n",
        "\t\tdataX.append(a)\n",
        "\t\tdataY.append(dataset[i + time_step, 0])\n",
        "\treturn numpy.array(dataX), numpy.array(dataY)"
      ],
      "execution_count": 16,
      "outputs": []
    },
    {
      "cell_type": "code",
      "metadata": {
        "id": "lZ_Eh9cFLwAC"
      },
      "source": [
        "# reshape data into X=t,t+1,t+2,t+3,t+4,...,t+9 and Y=t+10\n",
        "time_step = 10\n",
        "X_train, y_train = create_dataset(train_data, time_step)\n",
        "X_test, y_test = create_dataset(test_data, time_step)"
      ],
      "execution_count": 17,
      "outputs": []
    },
    {
      "cell_type": "markdown",
      "metadata": {
        "id": "d_jMn4P2XjDV"
      },
      "source": [
        "### Reshape input to be [samples, time steps, features], which is required for LSTM"
      ]
    },
    {
      "cell_type": "code",
      "metadata": {
        "colab": {
          "base_uri": "https://localhost:8080/"
        },
        "id": "JjwC-NukLwAC",
        "outputId": "469594cf-5b7f-4b8b-fd1d-1e3fcce47f42"
      },
      "source": [
        "# Sebelum di reshape\n",
        "print(\"Train Shape: \")\n",
        "print(X_train.shape)\n",
        "print(y_train.shape)\n",
        "print(\"\\nTest Shape: \")\n",
        "print(X_test.shape)\n",
        "print(y_test.shape)"
      ],
      "execution_count": 18,
      "outputs": [
        {
          "output_type": "stream",
          "text": [
            "Train Shape: \n",
            "(156, 10)\n",
            "(156,)\n",
            "\n",
            "Test Shape: \n",
            "(80, 10)\n",
            "(80,)\n"
          ],
          "name": "stdout"
        }
      ]
    },
    {
      "cell_type": "code",
      "metadata": {
        "id": "oZaqtJ85LwAC"
      },
      "source": [
        "X_train = X_train.reshape(X_train.shape[0],X_train.shape[1] , 1)\n",
        "X_test = X_test.reshape(X_test.shape[0],X_test.shape[1] , 1)\n",
        "y_train = y_train.reshape(y_train.shape[0],1)\n",
        "y_test = y_test.reshape(y_test.shape[0],1)"
      ],
      "execution_count": 19,
      "outputs": []
    },
    {
      "cell_type": "code",
      "metadata": {
        "colab": {
          "base_uri": "https://localhost:8080/"
        },
        "id": "Z08jXcuDVxzy",
        "outputId": "ec860f1b-de12-4657-e1fe-ce8aad57073d"
      },
      "source": [
        "# Setelah di reshape untuk masuk ke LSTM\n",
        "print(\"Train Shape: \")\n",
        "print(X_train.shape)\n",
        "print(y_train.shape)\n",
        "print(\"\\nTest Shape: \")\n",
        "print(X_test.shape)\n",
        "print(y_test.shape)"
      ],
      "execution_count": 20,
      "outputs": [
        {
          "output_type": "stream",
          "text": [
            "Train Shape: \n",
            "(156, 10, 1)\n",
            "(156, 1)\n",
            "\n",
            "Test Shape: \n",
            "(80, 10, 1)\n",
            "(80, 1)\n"
          ],
          "name": "stdout"
        }
      ]
    },
    {
      "cell_type": "markdown",
      "metadata": {
        "id": "lewtV6TwXs35"
      },
      "source": [
        "## Design Stacked LSTM model\n",
        "\n"
      ]
    },
    {
      "cell_type": "code",
      "metadata": {
        "id": "3LV604DbLwAC"
      },
      "source": [
        "from tensorflow.keras.models import Sequential\n",
        "from tensorflow.keras.layers import Dense\n",
        "from tensorflow.keras.layers import LSTM"
      ],
      "execution_count": 21,
      "outputs": []
    },
    {
      "cell_type": "code",
      "metadata": {
        "id": "Rbn38SGmLwAD"
      },
      "source": [
        "model=Sequential()\n",
        "model.add(LSTM(50,return_sequences=True,input_shape=(10,1)))\n",
        "model.add(LSTM(50,return_sequences=True))\n",
        "model.add(LSTM(50))\n",
        "model.add(Dense(1))\n",
        "model.compile(loss='mean_squared_error',optimizer='adam')"
      ],
      "execution_count": 22,
      "outputs": []
    },
    {
      "cell_type": "code",
      "metadata": {
        "colab": {
          "base_uri": "https://localhost:8080/"
        },
        "id": "xoloT-zgLwAD",
        "outputId": "6e43646e-ad7d-423c-a63f-afb398f35e16"
      },
      "source": [
        "model.summary()"
      ],
      "execution_count": 23,
      "outputs": [
        {
          "output_type": "stream",
          "text": [
            "Model: \"sequential\"\n",
            "_________________________________________________________________\n",
            "Layer (type)                 Output Shape              Param #   \n",
            "=================================================================\n",
            "lstm (LSTM)                  (None, 10, 50)            10400     \n",
            "_________________________________________________________________\n",
            "lstm_1 (LSTM)                (None, 10, 50)            20200     \n",
            "_________________________________________________________________\n",
            "lstm_2 (LSTM)                (None, 50)                20200     \n",
            "_________________________________________________________________\n",
            "dense (Dense)                (None, 1)                 51        \n",
            "=================================================================\n",
            "Total params: 50,851\n",
            "Trainable params: 50,851\n",
            "Non-trainable params: 0\n",
            "_________________________________________________________________\n"
          ],
          "name": "stdout"
        }
      ]
    },
    {
      "cell_type": "markdown",
      "metadata": {
        "id": "eVOfDE6vYJYS"
      },
      "source": [
        "## Fit Model"
      ]
    },
    {
      "cell_type": "code",
      "metadata": {
        "colab": {
          "base_uri": "https://localhost:8080/"
        },
        "id": "xjnBw09KLwAD",
        "outputId": "3c64c459-b4e0-47b0-fc8d-44d1973a243a"
      },
      "source": [
        "history = model.fit(X_train,y_train,validation_data=(X_test,y_test),epochs=100,batch_size=32,verbose=1)"
      ],
      "execution_count": 24,
      "outputs": [
        {
          "output_type": "stream",
          "text": [
            "Epoch 1/100\n",
            "5/5 [==============================] - 6s 359ms/step - loss: 0.1203 - val_loss: 0.2197\n",
            "Epoch 2/100\n",
            "5/5 [==============================] - 0s 27ms/step - loss: 0.0370 - val_loss: 0.0094\n",
            "Epoch 3/100\n",
            "5/5 [==============================] - 0s 28ms/step - loss: 0.0193 - val_loss: 0.0093\n",
            "Epoch 4/100\n",
            "5/5 [==============================] - 0s 28ms/step - loss: 0.0119 - val_loss: 0.0599\n",
            "Epoch 5/100\n",
            "5/5 [==============================] - 0s 65ms/step - loss: 0.0146 - val_loss: 0.0505\n",
            "Epoch 6/100\n",
            "5/5 [==============================] - 0s 27ms/step - loss: 0.0102 - val_loss: 0.0138\n",
            "Epoch 7/100\n",
            "5/5 [==============================] - 0s 28ms/step - loss: 0.0077 - val_loss: 0.0062\n",
            "Epoch 8/100\n",
            "5/5 [==============================] - 0s 29ms/step - loss: 0.0072 - val_loss: 0.0177\n",
            "Epoch 9/100\n",
            "5/5 [==============================] - 0s 27ms/step - loss: 0.0074 - val_loss: 0.0136\n",
            "Epoch 10/100\n",
            "5/5 [==============================] - 0s 27ms/step - loss: 0.0070 - val_loss: 0.0031\n",
            "Epoch 11/100\n",
            "5/5 [==============================] - 0s 26ms/step - loss: 0.0057 - val_loss: 0.0037\n",
            "Epoch 12/100\n",
            "5/5 [==============================] - 0s 29ms/step - loss: 0.0054 - val_loss: 0.0066\n",
            "Epoch 13/100\n",
            "5/5 [==============================] - 0s 27ms/step - loss: 0.0070 - val_loss: 0.0026\n",
            "Epoch 14/100\n",
            "5/5 [==============================] - 0s 27ms/step - loss: 0.0059 - val_loss: 0.0028\n",
            "Epoch 15/100\n",
            "5/5 [==============================] - 0s 29ms/step - loss: 0.0056 - val_loss: 0.0060\n",
            "Epoch 16/100\n",
            "5/5 [==============================] - 0s 29ms/step - loss: 0.0052 - val_loss: 0.0039\n",
            "Epoch 17/100\n",
            "5/5 [==============================] - 0s 27ms/step - loss: 0.0063 - val_loss: 0.0030\n",
            "Epoch 18/100\n",
            "5/5 [==============================] - 0s 27ms/step - loss: 0.0058 - val_loss: 0.0081\n",
            "Epoch 19/100\n",
            "5/5 [==============================] - 0s 26ms/step - loss: 0.0051 - val_loss: 0.0032\n",
            "Epoch 20/100\n",
            "5/5 [==============================] - 0s 28ms/step - loss: 0.0049 - val_loss: 0.0036\n",
            "Epoch 21/100\n",
            "5/5 [==============================] - 0s 28ms/step - loss: 0.0046 - val_loss: 0.0053\n",
            "Epoch 22/100\n",
            "5/5 [==============================] - 0s 26ms/step - loss: 0.0056 - val_loss: 0.0030\n",
            "Epoch 23/100\n",
            "5/5 [==============================] - 0s 29ms/step - loss: 0.0066 - val_loss: 0.0046\n",
            "Epoch 24/100\n",
            "5/5 [==============================] - 0s 27ms/step - loss: 0.0049 - val_loss: 0.0032\n",
            "Epoch 25/100\n",
            "5/5 [==============================] - 0s 27ms/step - loss: 0.0059 - val_loss: 0.0043\n",
            "Epoch 26/100\n",
            "5/5 [==============================] - 0s 28ms/step - loss: 0.0064 - val_loss: 0.0033\n",
            "Epoch 27/100\n",
            "5/5 [==============================] - 0s 27ms/step - loss: 0.0060 - val_loss: 0.0036\n",
            "Epoch 28/100\n",
            "5/5 [==============================] - 0s 28ms/step - loss: 0.0061 - val_loss: 0.0034\n",
            "Epoch 29/100\n",
            "5/5 [==============================] - 0s 27ms/step - loss: 0.0046 - val_loss: 0.0044\n",
            "Epoch 30/100\n",
            "5/5 [==============================] - 0s 29ms/step - loss: 0.0049 - val_loss: 0.0034\n",
            "Epoch 31/100\n",
            "5/5 [==============================] - 0s 27ms/step - loss: 0.0057 - val_loss: 0.0041\n",
            "Epoch 32/100\n",
            "5/5 [==============================] - 0s 28ms/step - loss: 0.0057 - val_loss: 0.0034\n",
            "Epoch 33/100\n",
            "5/5 [==============================] - 0s 28ms/step - loss: 0.0060 - val_loss: 0.0042\n",
            "Epoch 34/100\n",
            "5/5 [==============================] - 0s 27ms/step - loss: 0.0053 - val_loss: 0.0026\n",
            "Epoch 35/100\n",
            "5/5 [==============================] - 0s 27ms/step - loss: 0.0056 - val_loss: 0.0039\n",
            "Epoch 36/100\n",
            "5/5 [==============================] - 0s 28ms/step - loss: 0.0051 - val_loss: 0.0029\n",
            "Epoch 37/100\n",
            "5/5 [==============================] - 0s 28ms/step - loss: 0.0062 - val_loss: 0.0044\n",
            "Epoch 38/100\n",
            "5/5 [==============================] - 0s 29ms/step - loss: 0.0056 - val_loss: 0.0028\n",
            "Epoch 39/100\n",
            "5/5 [==============================] - 0s 29ms/step - loss: 0.0052 - val_loss: 0.0065\n",
            "Epoch 40/100\n",
            "5/5 [==============================] - 0s 28ms/step - loss: 0.0049 - val_loss: 0.0022\n",
            "Epoch 41/100\n",
            "5/5 [==============================] - 0s 31ms/step - loss: 0.0055 - val_loss: 0.0087\n",
            "Epoch 42/100\n",
            "5/5 [==============================] - 0s 28ms/step - loss: 0.0045 - val_loss: 0.0022\n",
            "Epoch 43/100\n",
            "5/5 [==============================] - 0s 27ms/step - loss: 0.0052 - val_loss: 0.0060\n",
            "Epoch 44/100\n",
            "5/5 [==============================] - 0s 28ms/step - loss: 0.0052 - val_loss: 0.0032\n",
            "Epoch 45/100\n",
            "5/5 [==============================] - 0s 27ms/step - loss: 0.0052 - val_loss: 0.0027\n",
            "Epoch 46/100\n",
            "5/5 [==============================] - 0s 30ms/step - loss: 0.0047 - val_loss: 0.0041\n",
            "Epoch 47/100\n",
            "5/5 [==============================] - 0s 28ms/step - loss: 0.0049 - val_loss: 0.0028\n",
            "Epoch 48/100\n",
            "5/5 [==============================] - 0s 27ms/step - loss: 0.0046 - val_loss: 0.0035\n",
            "Epoch 49/100\n",
            "5/5 [==============================] - 0s 27ms/step - loss: 0.0040 - val_loss: 0.0033\n",
            "Epoch 50/100\n",
            "5/5 [==============================] - 0s 26ms/step - loss: 0.0047 - val_loss: 0.0030\n",
            "Epoch 51/100\n",
            "5/5 [==============================] - 0s 30ms/step - loss: 0.0042 - val_loss: 0.0037\n",
            "Epoch 52/100\n",
            "5/5 [==============================] - 0s 26ms/step - loss: 0.0039 - val_loss: 0.0035\n",
            "Epoch 53/100\n",
            "5/5 [==============================] - 0s 28ms/step - loss: 0.0045 - val_loss: 0.0026\n",
            "Epoch 54/100\n",
            "5/5 [==============================] - 0s 29ms/step - loss: 0.0043 - val_loss: 0.0041\n",
            "Epoch 55/100\n",
            "5/5 [==============================] - 0s 30ms/step - loss: 0.0046 - val_loss: 0.0022\n",
            "Epoch 56/100\n",
            "5/5 [==============================] - 0s 31ms/step - loss: 0.0043 - val_loss: 0.0051\n",
            "Epoch 57/100\n",
            "5/5 [==============================] - 0s 27ms/step - loss: 0.0038 - val_loss: 0.0025\n",
            "Epoch 58/100\n",
            "5/5 [==============================] - 0s 28ms/step - loss: 0.0040 - val_loss: 0.0052\n",
            "Epoch 59/100\n",
            "5/5 [==============================] - 0s 27ms/step - loss: 0.0045 - val_loss: 0.0019\n",
            "Epoch 60/100\n",
            "5/5 [==============================] - 0s 26ms/step - loss: 0.0032 - val_loss: 0.0069\n",
            "Epoch 61/100\n",
            "5/5 [==============================] - 0s 29ms/step - loss: 0.0040 - val_loss: 0.0031\n",
            "Epoch 62/100\n",
            "5/5 [==============================] - 0s 28ms/step - loss: 0.0050 - val_loss: 0.0024\n",
            "Epoch 63/100\n",
            "5/5 [==============================] - 0s 29ms/step - loss: 0.0045 - val_loss: 0.0040\n",
            "Epoch 64/100\n",
            "5/5 [==============================] - 0s 27ms/step - loss: 0.0035 - val_loss: 0.0022\n",
            "Epoch 65/100\n",
            "5/5 [==============================] - 0s 29ms/step - loss: 0.0031 - val_loss: 0.0052\n",
            "Epoch 66/100\n",
            "5/5 [==============================] - 0s 28ms/step - loss: 0.0034 - val_loss: 0.0034\n",
            "Epoch 67/100\n",
            "5/5 [==============================] - 0s 26ms/step - loss: 0.0035 - val_loss: 0.0022\n",
            "Epoch 68/100\n",
            "5/5 [==============================] - 0s 27ms/step - loss: 0.0041 - val_loss: 0.0037\n",
            "Epoch 69/100\n",
            "5/5 [==============================] - 0s 64ms/step - loss: 0.0035 - val_loss: 0.0028\n",
            "Epoch 70/100\n",
            "5/5 [==============================] - 0s 28ms/step - loss: 0.0039 - val_loss: 0.0023\n",
            "Epoch 71/100\n",
            "5/5 [==============================] - 0s 27ms/step - loss: 0.0033 - val_loss: 0.0052\n",
            "Epoch 72/100\n",
            "5/5 [==============================] - 0s 27ms/step - loss: 0.0037 - val_loss: 0.0104\n",
            "Epoch 73/100\n",
            "5/5 [==============================] - 0s 27ms/step - loss: 0.0048 - val_loss: 0.0019\n",
            "Epoch 74/100\n",
            "5/5 [==============================] - 0s 27ms/step - loss: 0.0037 - val_loss: 0.0024\n",
            "Epoch 75/100\n",
            "5/5 [==============================] - 0s 30ms/step - loss: 0.0046 - val_loss: 0.0101\n",
            "Epoch 76/100\n",
            "5/5 [==============================] - 0s 30ms/step - loss: 0.0044 - val_loss: 0.0021\n",
            "Epoch 77/100\n",
            "5/5 [==============================] - 0s 29ms/step - loss: 0.0033 - val_loss: 0.0059\n",
            "Epoch 78/100\n",
            "5/5 [==============================] - 0s 28ms/step - loss: 0.0041 - val_loss: 0.0019\n",
            "Epoch 79/100\n",
            "5/5 [==============================] - 0s 27ms/step - loss: 0.0043 - val_loss: 0.0019\n",
            "Epoch 80/100\n",
            "5/5 [==============================] - 0s 28ms/step - loss: 0.0033 - val_loss: 0.0043\n",
            "Epoch 81/100\n",
            "5/5 [==============================] - 0s 27ms/step - loss: 0.0031 - val_loss: 0.0019\n",
            "Epoch 82/100\n",
            "5/5 [==============================] - 0s 30ms/step - loss: 0.0030 - val_loss: 0.0055\n",
            "Epoch 83/100\n",
            "5/5 [==============================] - 0s 27ms/step - loss: 0.0032 - val_loss: 0.0026\n",
            "Epoch 84/100\n",
            "5/5 [==============================] - 0s 28ms/step - loss: 0.0032 - val_loss: 0.0044\n",
            "Epoch 85/100\n",
            "5/5 [==============================] - 0s 29ms/step - loss: 0.0033 - val_loss: 0.0037\n",
            "Epoch 86/100\n",
            "5/5 [==============================] - 0s 26ms/step - loss: 0.0035 - val_loss: 0.0020\n",
            "Epoch 87/100\n",
            "5/5 [==============================] - 0s 28ms/step - loss: 0.0028 - val_loss: 0.0031\n",
            "Epoch 88/100\n",
            "5/5 [==============================] - 0s 27ms/step - loss: 0.0027 - val_loss: 0.0029\n",
            "Epoch 89/100\n",
            "5/5 [==============================] - 0s 29ms/step - loss: 0.0034 - val_loss: 0.0027\n",
            "Epoch 90/100\n",
            "5/5 [==============================] - 0s 28ms/step - loss: 0.0032 - val_loss: 0.0075\n",
            "Epoch 91/100\n",
            "5/5 [==============================] - 0s 29ms/step - loss: 0.0034 - val_loss: 0.0020\n",
            "Epoch 92/100\n",
            "5/5 [==============================] - 0s 27ms/step - loss: 0.0033 - val_loss: 0.0057\n",
            "Epoch 93/100\n",
            "5/5 [==============================] - 0s 27ms/step - loss: 0.0035 - val_loss: 0.0022\n",
            "Epoch 94/100\n",
            "5/5 [==============================] - 0s 27ms/step - loss: 0.0030 - val_loss: 0.0022\n",
            "Epoch 95/100\n",
            "5/5 [==============================] - 0s 27ms/step - loss: 0.0035 - val_loss: 0.0020\n",
            "Epoch 96/100\n",
            "5/5 [==============================] - 0s 27ms/step - loss: 0.0035 - val_loss: 0.0070\n",
            "Epoch 97/100\n",
            "5/5 [==============================] - 0s 26ms/step - loss: 0.0032 - val_loss: 0.0039\n",
            "Epoch 98/100\n",
            "5/5 [==============================] - 0s 30ms/step - loss: 0.0035 - val_loss: 0.0074\n",
            "Epoch 99/100\n",
            "5/5 [==============================] - 0s 27ms/step - loss: 0.0026 - val_loss: 0.0042\n",
            "Epoch 100/100\n",
            "5/5 [==============================] - 0s 28ms/step - loss: 0.0027 - val_loss: 0.0029\n"
          ],
          "name": "stdout"
        }
      ]
    },
    {
      "cell_type": "markdown",
      "metadata": {
        "id": "rHl5bAcSYOER"
      },
      "source": [
        "## Evaluate Model"
      ]
    },
    {
      "cell_type": "code",
      "metadata": {
        "id": "7RXvkhkaLwAD",
        "colab": {
          "base_uri": "https://localhost:8080/",
          "height": 35
        },
        "outputId": "14a476b7-7c7e-4b57-b4a1-aad6a7001e0c"
      },
      "source": [
        "import tensorflow as tf\r\n",
        "tf.__version__"
      ],
      "execution_count": 25,
      "outputs": [
        {
          "output_type": "execute_result",
          "data": {
            "application/vnd.google.colaboratory.intrinsic+json": {
              "type": "string"
            },
            "text/plain": [
              "'2.4.0'"
            ]
          },
          "metadata": {
            "tags": []
          },
          "execution_count": 25
        }
      ]
    },
    {
      "cell_type": "code",
      "metadata": {
        "colab": {
          "base_uri": "https://localhost:8080/",
          "height": 295
        },
        "id": "Mi78JGE2SGje",
        "outputId": "d5c1b2fd-44b5-473c-d651-2943dcebee30"
      },
      "source": [
        "# summarize history for loss\r\n",
        "plt.plot(history.history['loss'])\r\n",
        "plt.plot(history.history['val_loss'])\r\n",
        "plt.title('model loss')\r\n",
        "plt.ylabel('loss')\r\n",
        "plt.xlabel('epoch')\r\n",
        "plt.legend(['train', 'test'], loc='upper left')\r\n",
        "plt.show()"
      ],
      "execution_count": 26,
      "outputs": [
        {
          "output_type": "display_data",
          "data": {
            "image/png": "[encoded data removed]",
            "text/plain": [
              "<Figure size 432x288 with 1 Axes>"
            ]
          },
          "metadata": {
            "tags": [],
            "needs_background": "light"
          }
        }
      ]
    },
    {
      "cell_type": "markdown",
      "metadata": {
        "id": "OF3xr9wiYpXF"
      },
      "source": [
        "### Do the prediction"
      ]
    },
    {
      "cell_type": "code",
      "metadata": {
        "id": "FhEzvlrOLwAD"
      },
      "source": [
        "train_predict=model.predict(X_train)\n",
        "test_predict=model.predict(X_test)"
      ],
      "execution_count": 28,
      "outputs": []
    },
    {
      "cell_type": "code",
      "metadata": {
        "id": "kqt-0i66LwAD"
      },
      "source": [
        "# Transform back to the original form\n",
        "train_predict=scaler.inverse_transform(train_predict)\n",
        "test_predict=scaler.inverse_transform(test_predict)"
      ],
      "execution_count": 29,
      "outputs": []
    },
    {
      "cell_type": "markdown",
      "metadata": {
        "id": "aZ0H1keIYlwC"
      },
      "source": [
        "### Calculate RMSE performance metrics\n"
      ]
    },
    {
      "cell_type": "code",
      "metadata": {
        "colab": {
          "base_uri": "https://localhost:8080/"
        },
        "id": "QIWLyju3LwAD",
        "outputId": "db10f8ad-2564-4e26-db14-31b5bfffc83e"
      },
      "source": [
        "import math\n",
        "from sklearn.metrics import mean_squared_error\n",
        "### Train Data RMSE\n",
        "math.sqrt(mean_squared_error(y_train,train_predict))"
      ],
      "execution_count": 30,
      "outputs": [
        {
          "output_type": "execute_result",
          "data": {
            "text/plain": [
              "28529.576044019548"
            ]
          },
          "metadata": {
            "tags": []
          },
          "execution_count": 30
        }
      ]
    },
    {
      "cell_type": "code",
      "metadata": {
        "colab": {
          "base_uri": "https://localhost:8080/"
        },
        "id": "HfEKmEtELwAE",
        "outputId": "568fea56-39cd-4b96-de13-9b0b3ea2691f"
      },
      "source": [
        "### Test Data RMSE\n",
        "math.sqrt(mean_squared_error(y_test,test_predict))"
      ],
      "execution_count": 31,
      "outputs": [
        {
          "output_type": "execute_result",
          "data": {
            "text/plain": [
              "30978.22228107278"
            ]
          },
          "metadata": {
            "tags": []
          },
          "execution_count": 31
        }
      ]
    },
    {
      "cell_type": "markdown",
      "metadata": {
        "id": "g8brUdSlYe-M"
      },
      "source": [
        "### Plotting"
      ]
    },
    {
      "cell_type": "code",
      "metadata": {
        "colab": {
          "base_uri": "https://localhost:8080/",
          "height": 537
        },
        "id": "ai6iIFd7LwAE",
        "outputId": "a03f90a5-8118-476c-a401-5e750536e86d"
      },
      "source": [
        "# shift train predictions for plotting\n",
        "look_back=10\n",
        "trainPredictPlot = numpy.empty_like(df1)\n",
        "trainPredictPlot[:, :] = np.nan\n",
        "trainPredictPlot[look_back:len(train_predict)+look_back, :] = train_predict\n",
        "\n",
        "# shift test predictions for plotting\n",
        "testPredictPlot = numpy.empty_like(df1)\n",
        "testPredictPlot[:, :] = np.nan\n",
        "testPredictPlot[len(train_predict)+(look_back*2)+1:len(df1)-1, :] = test_predict\n",
        "\n",
        "# plot baseline and predictions\n",
        "plt.figure(figsize=(12,9))\n",
        "plt.plot(scaler.inverse_transform(df1))\n",
        "plt.plot(trainPredictPlot)\n",
        "plt.plot(testPredictPlot)\n",
        "plt.show()"
      ],
      "execution_count": 32,
      "outputs": [
        {
          "output_type": "display_data",
          "data": {
            "image/png": "[encoded data removed]",
            "text/plain": [
              "<Figure size 864x648 with 1 Axes>"
            ]
          },
          "metadata": {
            "tags": [],
            "needs_background": "light"
          }
        }
      ]
    },
    {
      "cell_type": "markdown",
      "metadata": {
        "id": "16WrV1djZMzy"
      },
      "source": [
        "## Predict Next 30 Days with Model"
      ]
    },
    {
      "cell_type": "code",
      "metadata": {
        "colab": {
          "base_uri": "https://localhost:8080/"
        },
        "id": "wg9eQ1n6LwAE",
        "outputId": "3774d97e-28dc-4c0c-c82f-eccddec3a04c"
      },
      "source": [
        "len(test_data)"
      ],
      "execution_count": 33,
      "outputs": [
        {
          "output_type": "execute_result",
          "data": {
            "text/plain": [
              "91"
            ]
          },
          "metadata": {
            "tags": []
          },
          "execution_count": 33
        }
      ]
    },
    {
      "cell_type": "code",
      "metadata": {
        "colab": {
          "base_uri": "https://localhost:8080/"
        },
        "id": "HxkQiAGpLwAE",
        "outputId": "b85adf01-2a9f-4103-e81c-acac65086dff"
      },
      "source": [
        "# Mempersiapkan data untuk prediksi h+1 setelah data test\n",
        "x_input=test_data[81:].reshape(1,-1)\n",
        "x_input.shape"
      ],
      "execution_count": 34,
      "outputs": [
        {
          "output_type": "execute_result",
          "data": {
            "text/plain": [
              "(1, 10)"
            ]
          },
          "metadata": {
            "tags": []
          },
          "execution_count": 34
        }
      ]
    },
    {
      "cell_type": "code",
      "metadata": {
        "id": "rps_YCJaLwAE"
      },
      "source": [
        "temp_input=list(x_input)\n",
        "temp_input=temp_input[0].tolist()"
      ],
      "execution_count": 35,
      "outputs": []
    },
    {
      "cell_type": "code",
      "metadata": {
        "colab": {
          "base_uri": "https://localhost:8080/"
        },
        "id": "GNOmkebeLwAE",
        "outputId": "b4ce37fa-8c64-4f8c-8c92-6c1757a456db"
      },
      "source": [
        "# Panjang temp_input sesuai dengan time-steps\n",
        "len(temp_input)"
      ],
      "execution_count": 36,
      "outputs": [
        {
          "output_type": "execute_result",
          "data": {
            "text/plain": [
              "10"
            ]
          },
          "metadata": {
            "tags": []
          },
          "execution_count": 36
        }
      ]
    },
    {
      "cell_type": "code",
      "metadata": {
        "colab": {
          "base_uri": "https://localhost:8080/"
        },
        "id": "72dA667nLwAE",
        "outputId": "7f4063d8-47ab-4411-e6f0-310792d2d4c6"
      },
      "source": [
        "# demonstrate prediction for next 30 days\n",
        "from numpy import array\n",
        "\n",
        "lst_output=[]\n",
        "n_steps=10\n",
        "i=0\n",
        "# Jumlah hari yang mau diprediksi\n",
        "while(i<30):\n",
        "    \n",
        "    if(len(temp_input)>n_steps):\n",
        "        #print(temp_input)\n",
        "        x_input=np.array(temp_input[1:])\n",
        "        print(\"{} day input {}\".format(i,x_input))\n",
        "        x_input = x_input.reshape(1,-1)\n",
        "        x_input = x_input.reshape((1, n_steps, 1))\n",
        "        #print(x_input)\n",
        "        yhat = model.predict(x_input, verbose=0)\n",
        "        print(\"{} day output {}\".format(i,yhat))\n",
        "        temp_input.extend(yhat[0].tolist())\n",
        "        temp_input=temp_input[1:]\n",
        "        #print(temp_input)\n",
        "        lst_output.extend(yhat.tolist())\n",
        "        i=i+1\n",
        "    else:\n",
        "        x_input = x_input.reshape((1, n_steps,1))\n",
        "        yhat = model.predict(x_input, verbose=0)\n",
        "        print(yhat[0])\n",
        "        temp_input.extend(yhat[0].tolist())\n",
        "        print(len(temp_input))\n",
        "        lst_output.extend(yhat.tolist())\n",
        "        i=i+1\n",
        "    \n",
        "\n",
        "print(lst_output)"
      ],
      "execution_count": 37,
      "outputs": [
        {
          "output_type": "stream",
          "text": [
            "[0.9514714]\n",
            "11\n",
            "1 day input [0.74920635 0.83809524 1.         0.9015873  0.93968254 0.93968254\n",
            " 0.95238095 0.96190476 0.95555556 0.95147139]\n",
            "1 day output [[0.92940414]]\n",
            "2 day input [0.83809524 1.         0.9015873  0.93968254 0.93968254 0.95238095\n",
            " 0.96190476 0.95555556 0.95147139 0.92940414]\n",
            "2 day output [[0.89633363]]\n",
            "3 day input [1.         0.9015873  0.93968254 0.93968254 0.95238095 0.96190476\n",
            " 0.95555556 0.95147139 0.92940414 0.89633363]\n",
            "3 day output [[0.8656303]]\n",
            "4 day input [0.9015873  0.93968254 0.93968254 0.95238095 0.96190476 0.95555556\n",
            " 0.95147139 0.92940414 0.89633363 0.86563033]\n",
            "4 day output [[0.84913546]]\n",
            "5 day input [0.93968254 0.93968254 0.95238095 0.96190476 0.95555556 0.95147139\n",
            " 0.92940414 0.89633363 0.86563033 0.84913546]\n",
            "5 day output [[0.81032205]]\n",
            "6 day input [0.93968254 0.95238095 0.96190476 0.95555556 0.95147139 0.92940414\n",
            " 0.89633363 0.86563033 0.84913546 0.81032205]\n",
            "6 day output [[0.77294207]]\n",
            "7 day input [0.95238095 0.96190476 0.95555556 0.95147139 0.92940414 0.89633363\n",
            " 0.86563033 0.84913546 0.81032205 0.77294207]\n",
            "7 day output [[0.73267955]]\n",
            "8 day input [0.96190476 0.95555556 0.95147139 0.92940414 0.89633363 0.86563033\n",
            " 0.84913546 0.81032205 0.77294207 0.73267955]\n",
            "8 day output [[0.693048]]\n",
            "9 day input [0.95555556 0.95147139 0.92940414 0.89633363 0.86563033 0.84913546\n",
            " 0.81032205 0.77294207 0.73267955 0.693048  ]\n",
            "9 day output [[0.6551971]]\n",
            "10 day input [0.95147139 0.92940414 0.89633363 0.86563033 0.84913546 0.81032205\n",
            " 0.77294207 0.73267955 0.693048   0.65519708]\n",
            "10 day output [[0.6186216]]\n",
            "11 day input [0.92940414 0.89633363 0.86563033 0.84913546 0.81032205 0.77294207\n",
            " 0.73267955 0.693048   0.65519708 0.61862159]\n",
            "11 day output [[0.5854545]]\n",
            "12 day input [0.89633363 0.86563033 0.84913546 0.81032205 0.77294207 0.73267955\n",
            " 0.693048   0.65519708 0.61862159 0.58545452]\n",
            "12 day output [[0.5547289]]\n",
            "13 day input [0.86563033 0.84913546 0.81032205 0.77294207 0.73267955 0.693048\n",
            " 0.65519708 0.61862159 0.58545452 0.55472893]\n",
            "13 day output [[0.5262721]]\n",
            "14 day input [0.84913546 0.81032205 0.77294207 0.73267955 0.693048   0.65519708\n",
            " 0.61862159 0.58545452 0.55472893 0.52627212]\n",
            "14 day output [[0.5013449]]\n",
            "15 day input [0.81032205 0.77294207 0.73267955 0.693048   0.65519708 0.61862159\n",
            " 0.58545452 0.55472893 0.52627212 0.50134492]\n",
            "15 day output [[0.48230764]]\n",
            "16 day input [0.77294207 0.73267955 0.693048   0.65519708 0.61862159 0.58545452\n",
            " 0.55472893 0.52627212 0.50134492 0.48230764]\n",
            "16 day output [[0.4662375]]\n",
            "17 day input [0.73267955 0.693048   0.65519708 0.61862159 0.58545452 0.55472893\n",
            " 0.52627212 0.50134492 0.48230764 0.46623749]\n",
            "17 day output [[0.4533207]]\n",
            "18 day input [0.693048   0.65519708 0.61862159 0.58545452 0.55472893 0.52627212\n",
            " 0.50134492 0.48230764 0.46623749 0.45332071]\n",
            "18 day output [[0.44290453]]\n",
            "19 day input [0.65519708 0.61862159 0.58545452 0.55472893 0.52627212 0.50134492\n",
            " 0.48230764 0.46623749 0.45332071 0.44290453]\n",
            "19 day output [[0.4346394]]\n",
            "20 day input [0.61862159 0.58545452 0.55472893 0.52627212 0.50134492 0.48230764\n",
            " 0.46623749 0.45332071 0.44290453 0.43463939]\n",
            "20 day output [[0.42821088]]\n",
            "21 day input [0.58545452 0.55472893 0.52627212 0.50134492 0.48230764 0.46623749\n",
            " 0.45332071 0.44290453 0.43463939 0.42821088]\n",
            "21 day output [[0.42319837]]\n",
            "22 day input [0.55472893 0.52627212 0.50134492 0.48230764 0.46623749 0.45332071\n",
            " 0.44290453 0.43463939 0.42821088 0.42319837]\n",
            "22 day output [[0.41939366]]\n",
            "23 day input [0.52627212 0.50134492 0.48230764 0.46623749 0.45332071 0.44290453\n",
            " 0.43463939 0.42821088 0.42319837 0.41939366]\n",
            "23 day output [[0.416472]]\n",
            "24 day input [0.50134492 0.48230764 0.46623749 0.45332071 0.44290453 0.43463939\n",
            " 0.42821088 0.42319837 0.41939366 0.41647199]\n",
            "24 day output [[0.41410968]]\n",
            "25 day input [0.48230764 0.46623749 0.45332071 0.44290453 0.43463939 0.42821088\n",
            " 0.42319837 0.41939366 0.41647199 0.41410968]\n",
            "25 day output [[0.41212866]]\n",
            "26 day input [0.46623749 0.45332071 0.44290453 0.43463939 0.42821088 0.42319837\n",
            " 0.41939366 0.41647199 0.41410968 0.41212866]\n",
            "26 day output [[0.4105981]]\n",
            "27 day input [0.45332071 0.44290453 0.43463939 0.42821088 0.42319837 0.41939366\n",
            " 0.41647199 0.41410968 0.41212866 0.4105981 ]\n",
            "27 day output [[0.4093614]]\n",
            "28 day input [0.44290453 0.43463939 0.42821088 0.42319837 0.41939366 0.41647199\n",
            " 0.41410968 0.41212866 0.4105981  0.40936139]\n",
            "28 day output [[0.40834486]]\n",
            "29 day input [0.43463939 0.42821088 0.42319837 0.41939366 0.41647199 0.41410968\n",
            " 0.41212866 0.4105981  0.40936139 0.40834486]\n",
            "29 day output [[0.40747994]]\n",
            "[[0.9514713883399963], [0.9294041395187378], [0.896333634853363], [0.8656303286552429], [0.8491354584693909], [0.8103220462799072], [0.772942066192627], [0.732679545879364], [0.6930480003356934], [0.6551970839500427], [0.6186215877532959], [0.585454523563385], [0.5547289252281189], [0.5262721180915833], [0.5013449192047119], [0.48230764269828796], [0.46623748540878296], [0.45332071185112], [0.442904531955719], [0.4346393942832947], [0.42821088433265686], [0.4231983721256256], [0.4193936586380005], [0.4164719879627228], [0.4141096770763397], [0.41212865710258484], [0.41059809923171997], [0.4093613922595978], [0.4083448648452759], [0.4074799418449402]]\n"
          ],
          "name": "stdout"
        }
      ]
    },
    {
      "cell_type": "code",
      "metadata": {
        "id": "8ZkvsCWDLwAE"
      },
      "source": [
        "day_new=np.arange(1,11) # Untuk menampung 10 hari terakhir testing\n",
        "day_pred=np.arange(11,41) # Untuk menampung 30 hari hasil prediksi"
      ],
      "execution_count": 38,
      "outputs": []
    },
    {
      "cell_type": "code",
      "metadata": {
        "id": "KlSKEnxsLwAE"
      },
      "source": [
        "import matplotlib.pyplot as plt"
      ],
      "execution_count": 39,
      "outputs": []
    },
    {
      "cell_type": "code",
      "metadata": {
        "id": "0tO2Vw1sLwAE",
        "colab": {
          "base_uri": "https://localhost:8080/"
        },
        "outputId": "12d13039-d08c-4107-bca1-347096052be3"
      },
      "source": [
        "len(df1), len(lst_output)"
      ],
      "execution_count": 40,
      "outputs": [
        {
          "output_type": "execute_result",
          "data": {
            "text/plain": [
              "(258, 30)"
            ]
          },
          "metadata": {
            "tags": []
          },
          "execution_count": 40
        }
      ]
    },
    {
      "cell_type": "code",
      "metadata": {
        "id": "H0urBfAQLwAE",
        "colab": {
          "base_uri": "https://localhost:8080/",
          "height": 286
        },
        "outputId": "bca46a32-c409-45b7-bed8-7434245f4dbd"
      },
      "source": [
        "plt.plot(day_new,scaler.inverse_transform(df1[248:]))\n",
        "plt.plot(day_pred,scaler.inverse_transform(lst_output))"
      ],
      "execution_count": 41,
      "outputs": [
        {
          "output_type": "execute_result",
          "data": {
            "text/plain": [
              "[<matplotlib.lines.Line2D at 0x7fe062cac6d8>]"
            ]
          },
          "metadata": {
            "tags": []
          },
          "execution_count": 41
        },
        {
          "output_type": "display_data",
          "data": {
            "image/png": "[encoded data removed]",
            "text/plain": [
              "<Figure size 432x288 with 1 Axes>"
            ]
          },
          "metadata": {
            "tags": [],
            "needs_background": "light"
          }
        }
      ]
    },
    {
      "cell_type": "code",
      "metadata": {
        "id": "dgxO5brbLwAE",
        "colab": {
          "base_uri": "https://localhost:8080/",
          "height": 282
        },
        "outputId": "ae04dbb2-abd8-4bc6-beb4-94f48adcdde3"
      },
      "source": [
        "df3=df1.tolist()\n",
        "df3.extend(lst_output)\n",
        "# Plot dari data ke x sampai prediksi terakhir\n",
        "x = 150\n",
        "plt.plot(df3[x:])"
      ],
      "execution_count": 42,
      "outputs": [
        {
          "output_type": "execute_result",
          "data": {
            "text/plain": [
              "[<matplotlib.lines.Line2D at 0x7fe062ba9828>]"
            ]
          },
          "metadata": {
            "tags": []
          },
          "execution_count": 42
        },
        {
          "output_type": "display_data",
          "data": {
            "image/png": "[encoded data removed]",
            "text/plain": [
              "<Figure size 432x288 with 1 Axes>"
            ]
          },
          "metadata": {
            "tags": [],
            "needs_background": "light"
          }
        }
      ]
    },
    {
      "cell_type": "code",
      "metadata": {
        "id": "P72Ee9QXLwAE"
      },
      "source": [
        "df3=scaler.inverse_transform(df3).tolist()"
      ],
      "execution_count": 43,
      "outputs": []
    },
    {
      "cell_type": "code",
      "metadata": {
        "id": "yOvpKaAOLwAE",
        "colab": {
          "base_uri": "https://localhost:8080/",
          "height": 282
        },
        "outputId": "6897f3f7-1bc7-4839-ecb4-6cd9f1147d55"
      },
      "source": [
        "plt.plot(df3)"
      ],
      "execution_count": 44,
      "outputs": [
        {
          "output_type": "execute_result",
          "data": {
            "text/plain": [
              "[<matplotlib.lines.Line2D at 0x7fe062a8db70>]"
            ]
          },
          "metadata": {
            "tags": []
          },
          "execution_count": 44
        },
        {
          "output_type": "display_data",
          "data": {
            "image/png": "[encoded data removed]",
            "text/plain": [
              "<Figure size 432x288 with 1 Axes>"
            ]
          },
          "metadata": {
            "tags": [],
            "needs_background": "light"
          }
        }
      ]
    },
    {
      "cell_type": "markdown",
      "metadata": {
        "id": "m76TWHxambPC"
      },
      "source": [
        "### Compare with true values"
      ]
    },
    {
      "cell_type": "code",
      "metadata": {
        "colab": {
          "base_uri": "https://localhost:8080/"
        },
        "id": "QDa5wZm1k1FK",
        "outputId": "ea9721f9-7520-4d81-b6f3-3a80c202b175"
      },
      "source": [
        "df2 = pd.read_csv('BBCA.JK_2020.csv')\n",
        "df2_close =df2.reset_index()['Close']\n",
        "df2_close"
      ],
      "execution_count": 45,
      "outputs": [
        {
          "output_type": "execute_result",
          "data": {
            "text/plain": [
              "0      33450.0\n",
              "1      34000.0\n",
              "2      33675.0\n",
              "3      33700.0\n",
              "4      33400.0\n",
              "        ...   \n",
              "221    31925.0\n",
              "222    31025.0\n",
              "223    31975.0\n",
              "224    32250.0\n",
              "225    32300.0\n",
              "Name: Close, Length: 226, dtype: float64"
            ]
          },
          "metadata": {
            "tags": []
          },
          "execution_count": 45
        }
      ]
    },
    {
      "cell_type": "code",
      "metadata": {
        "id": "VeCYjRTViYos"
      },
      "source": [
        "jml_hari_pred = 30\n",
        "jml_hari_2019_pred = 120\n",
        "\n",
        "day_2019=np.arange(1,1+jml_hari_2019_pred) # Untuk menampung 90 hari terakhir tahun 2019 + 30 hari prediksi\n",
        "day_2020=np.arange(1+(jml_hari_2019_pred-jml_hari_pred),1+jml_hari_2019_pred) # Untuk menampung hari harga saham tahun 2020"
      ],
      "execution_count": 46,
      "outputs": []
    },
    {
      "cell_type": "code",
      "metadata": {
        "colab": {
          "base_uri": "https://localhost:8080/",
          "height": 282
        },
        "id": "hkLeWHKwjkWo",
        "outputId": "4fb3c6ae-7cda-459d-8a90-37b75bd0fc83"
      },
      "source": [
        "plt.plot(day_2019,df3[len(df3)-jml_hari_2019_pred:])\n",
        "plt.plot(day_2020,df2_close[:jml_hari_pred])"
      ],
      "execution_count": 47,
      "outputs": [
        {
          "output_type": "execute_result",
          "data": {
            "text/plain": [
              "[<matplotlib.lines.Line2D at 0x7fe0629f4908>]"
            ]
          },
          "metadata": {
            "tags": []
          },
          "execution_count": 47
        },
        {
          "output_type": "display_data",
          "data": {
            "image/png": "[encoded data removed]",
            "text/plain": [
              "<Figure size 432x288 with 1 Axes>"
            ]
          },
          "metadata": {
            "tags": [],
            "needs_background": "light"
          }
        }
      ]
    }
  ]
}